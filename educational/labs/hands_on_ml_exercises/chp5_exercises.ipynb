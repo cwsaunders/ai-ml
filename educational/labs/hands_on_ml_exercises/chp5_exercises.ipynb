{
 "metadata": {
  "language_info": {
   "codemirror_mode": {
    "name": "ipython",
    "version": 3
   },
   "file_extension": ".py",
   "mimetype": "text/x-python",
   "name": "python",
   "nbconvert_exporter": "python",
   "pygments_lexer": "ipython3",
   "version": 3
  },
  "orig_nbformat": 2
 },
 "nbformat": 4,
 "nbformat_minor": 2,
 "cells": [
  {
   "cell_type": "code",
   "execution_count": null,
   "metadata": {},
   "outputs": [],
   "source": [
    "import numpy np\n",
    "\n",
    "X = 2*np.random.rand(100,1)\n",
    "y = 4 + 3 * X np.random.randn(100,1)\n",
    "\n"
   ]
  }
 ]
}