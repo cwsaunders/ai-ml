{
 "cells": [
  {
   "cell_type": "code",
   "execution_count": null,
   "metadata": {},
   "outputs": [],
   "source": [
    "import os\n",
    "import tarfile\n",
    "from six.moves import urllib\n",
    "import pandas as pd\n",
    "import matplotlib.pyplot as plt\n",
    "import numpy as np\n",
    "from zlib import crc32\n",
    "from sklearn.model_selection import StratifiedShuffleSplit\n",
    "\n",
    "DOWNLOAD_ROOT = \"https://raw.githubusercontent.com/ageron/handson-ml2/master/\"\n",
    "HOUSING_PATH = os.path.join(\"datasets\",\"housing\")\n",
    "HOUSING_URL = DOWNLOAD_ROOT + \"datasets/housing/housing.tgz\"\n",
    "\n",
    "# Acquire housing data\n",
    "def fetch_housing_data(housing_url=HOUSING_URL, housing_path=HOUSING_PATH):\n",
    "    if not os.path.isdir(housing_path):\n",
    "        os.makedirs(housing_path)\n",
    "    tgz_path = os.path.join(housing_path,\"housing.tgz\")\n",
    "    urllib.request.urlretrieve(housing_url,tgz_path)\n",
    "    housing_tgz = tarfile.open(tgz_path)\n",
    "    housing_tgz.extractall(path=housing_path)\n",
    "    housing_tgz.close()\n",
    "\n",
    "# Load housing data into Pandas Dataframe\n",
    "def load_housing_data(housing_path=HOUSING_PATH):\n",
    "    fetch_housing_data()\n",
    "    csv_path=os.path.join(housing_path,\"housing.csv\")\n",
    "    return pd.read_csv(csv_path)\n",
    "\n",
    "# Ensure that records from the test set are not added back into the train set via randomization\n",
    "def test_set_check(identifier, test_ratio):\n",
    "    return crc32(np.int64(identifier)) & 0xffffffff < test_ratio * 2**32\n",
    "\n",
    "# Split data into testing and training portions (20% testing, 80% training)\n",
    "def split_train_test_by_id(data, test_ratio, id_column):\n",
    "    ids = data[id_column]\n",
    "    in_test_set = ids.apply(lambda id_: test_set_check(id_, test_ratio))\n",
    "    return data.loc[~in_test_set], data.loc[in_test_set]\n",
    "\n",
    "# Create Pandas dataframe\n",
    "housing = load_housing_data()\n",
    "\n",
    "# housing.head() # First 5 records shown\n",
    "# housing.info() # Info function\n",
    "# housing.describe() # describe function\n",
    "\n",
    "# Histogram for data\n",
    "housing.hist(bins=50, figsize=(20,15))\n",
    "plt.show()"
   ]
  },
  {
   "cell_type": "code",
   "execution_count": null,
   "metadata": {
    "tags": []
   },
   "outputs": [],
   "source": [
    "housing_with_id = housing.reset_index()   # adds an `index` column\n",
    "train_set, test_set = split_train_test_by_id(housing_with_id, 0.2, \"index\") # Creates train/test sets\n",
    "print(len(train_set)) # Print length of train\n",
    "print(len(test_set)) # Print length of test"
   ]
  },
  {
   "cell_type": "code",
   "execution_count": null,
   "metadata": {},
   "outputs": [],
   "source": [
    "# The pd.cut() function is used to create an income category attribute with 5 categories (labeled from 1 to 5): category 1 ranges from # 0 to 1.5 (i.e., less than $15,000), category 2 from 1.5 to 3, and so on\n",
    "housing[\"income_cat\"] = pd.cut(housing[\"median_income\"], bins=[0.,1.5,3.0,4.5,6.,np.inf], labels=[1,2,3,4,5])\n",
    "housing[\"income_cat\"].hist() # Histogram of income brackets"
   ]
  },
  {
   "cell_type": "code",
   "execution_count": null,
   "metadata": {
    "tags": []
   },
   "outputs": [],
   "source": [
    "# Stratified sampling for income category (making sure the sample represents the population)\n",
    "split = StratifiedShuffleSplit(n_splits=1,test_size=0.2,random_state=42)\n",
    "for train_index, test_index in split.split(housing,housing[\"income_cat\"]):\n",
    "    strat_train_set = housing.loc[train_index]\n",
    "    strat_test_set = housing.loc[test_index]\n",
    "\n",
    "# Print out percentage of people in each income bracket after stratified sampling\n",
    "print(strat_test_set[\"income_cat\"].value_counts() / len(strat_test_set))\n",
    "\n",
    "# Remove \"income_cat\" to bring data back to original state\n",
    "for set_ in (strat_train_set, strat_test_set):\n",
    "    set_.drop(\"income_cat\", axis=1,inplace=True)"
   ]
  },
  {
   "cell_type": "code",
   "execution_count": null,
   "metadata": {},
   "outputs": [],
   "source": [
    "# Create copy set of training set\n",
    "housing = strat_train_set.copy()\n",
    "# Plot housing by population and long/lat\n",
    "housing.plot(kind=\"scatter\", x=\"longitude\", y=\"latitude\", alpha=0.1)"
   ]
  },
  {
   "cell_type": "code",
   "execution_count": null,
   "metadata": {},
   "outputs": [],
   "source": [
    "# Graph based on population, lat/long, and pricing\n",
    "housing.plot(kind=\"scatter\",x=\"longitude\",y=\"latitude\",alpha=0.4,s=housing[\"population\"]/100,label=\"population\",figsize=(10,7),c=\"median_house_value\",cmap=plt.get_cmap(\"jet\"),colorbar=True)\n",
    "plt.legend()"
   ]
  },
  {
   "cell_type": "code",
   "execution_count": null,
   "metadata": {},
   "outputs": [],
   "source": [
    "# Computing the standard correlation coeficient (Pearson's r)\n",
    "corr_matrix = housing.corr()\n",
    "\n",
    "# Output how different datapoints correlate to the median house value\n",
    "corr_matrix['median_house_value'].sort_values(ascending=False)"
   ]
  },
  {
   "cell_type": "code",
   "execution_count": null,
   "metadata": {},
   "outputs": [],
   "source": [
    "# Pandas scatter_matrix function to plot attributes against each other\n",
    "from pandas.plotting import scatter_matrix\n",
    "attributes = [\"median_house_value\", \"median_income\", \"total_rooms\", \"housing_median_age\"]\n",
    "scatter_matrix(housing[attributes], figsize=(12,8))"
   ]
  },
  {
   "cell_type": "code",
   "execution_count": null,
   "metadata": {},
   "outputs": [],
   "source": [
    "# Median income to median housing price\n",
    "housing.plot(kind=\"scatter\", x=\"median_income\", y=\"median_house_value\", alpha=0.1)"
   ]
  },
  {
   "cell_type": "code",
   "execution_count": null,
   "metadata": {},
   "outputs": [],
   "source": [
    "# Creating new attributes\n",
    "housing[\"rooms_per_household\"] = housing[\"total_rooms\"]/housing[\"households\"]\n",
    "housing[\"bedrooms_per_room\"] = housing[\"total_bedrooms\"]/housing[\"total_rooms\"]\n",
    "housing[\"population_per_household\"] = housing[\"population\"]/housing[\"households\"]\n",
    "\n",
    "# Another look at correlation matrix\n",
    "corr_matrix = housing.corr()\n",
    "corr_matrix[\"median_house_value\"].sort_values(ascending=False)"
   ]
  },
  {
   "cell_type": "code",
   "execution_count": null,
   "metadata": {
    "tags": []
   },
   "outputs": [],
   "source": [
    "# Reverting back to a clean training set\n",
    "housing = strat_train_set.drop(\"median_house_value\", axis=1)\n",
    "housing_labels = strat_train_set[\"median_house_value\"].copy()\n",
    "\n",
    "# Dealing with the total_bedrooms attribute missing cells (different options available in notes)\n",
    "from sklearn.impute import SimpleImputer\n",
    "\n",
    "# Use SimpleImputer function to fill missing values\n",
    "imputer = SimpleImputer(strategy=\"median\")\n",
    "# Drop non-numerical data for SimpleImputer sklearn function\n",
    "housing_num = housing.drop(\"ocean_proximity\", axis=1)\n",
    "# Fit imputer to housing_num to learn median values\n",
    "imputer.fit(housing_num)\n",
    "# print(imputer.statistics_)\n",
    "# print(housing_num.median().values)\n",
    "# Fill x with housing_num + median values for previously empty cells\n",
    "x = imputer.transform(housing_num) # This results in numpy array\n",
    "# Transforming back into Pandas dataframe\n",
    "housing_tr = pd.DataFrame(x, columns=housing_num.columns)\n",
    "\n",
    "# Working with the ocean_proximity attribute\n",
    "housing_cat = housing[[\"ocean_proximity\"]]\n",
    "# housing_cat.head(10)\n",
    "\n",
    "# Import OrdinalEncoder to transform ocean_proximity into numerical data\n",
    "from sklearn.preprocessing import OrdinalEncoder, OneHotEncoder\n",
    "# Note: We are using OneHotEncoder, not OrdinalEncoder. Reasoning in notes under 'transforming into numerical data'\n",
    "# However, it is still encoded/transformed in both ways in this program for educational purposes\n",
    "\n",
    "# Create OrdinalEncoder object\n",
    "ordinal_encoder = OrdinalEncoder()\n",
    "# Encode/transform dataset\n",
    "housing_cat_encoded = ordinal_encoder.fit_transform(housing_cat)\n",
    "# print(housing_cat_encoded[:10])\n",
    "# print(ordinal_encoder.categories_)\n",
    "\n",
    "# Encoder object created\n",
    "cat_encoder = OneHotEncoder()\n",
    "# Data encoded/transformed\n",
    "housing_cat_1hot = cat_encoder.fit_transform(housing_cat)\n",
    "# print(housing_cat_1hot)\n",
    "# housing_cat_1hot is currently a SciPy sparse matrix. It is useful in this format, however if someone wanted to use a 2d array\n",
    "# instead they can use the toarray() method"
   ]
  },
  {
   "cell_type": "code",
   "execution_count": null,
   "metadata": {},
   "outputs": [],
   "source": []
  }
 ],
 "metadata": {
  "kernelspec": {
   "display_name": "Python 3",
   "language": "python",
   "name": "python3"
  },
  "language_info": {
   "codemirror_mode": {
    "name": "ipython",
    "version": 3
   },
   "file_extension": ".py",
   "mimetype": "text/x-python",
   "name": "python",
   "nbconvert_exporter": "python",
   "pygments_lexer": "ipython3",
   "version": "3.8.3"
  }
 },
 "nbformat": 4,
 "nbformat_minor": 4
}