{
 "metadata": {
  "language_info": {
   "codemirror_mode": {
    "name": "ipython",
    "version": 3
   },
   "file_extension": ".py",
   "mimetype": "text/x-python",
   "name": "python",
   "nbconvert_exporter": "python",
   "pygments_lexer": "ipython3",
   "version": "3.8.3-final"
  },
  "orig_nbformat": 2,
  "kernelspec": {
   "name": "python_defaultSpec_1598641862123",
   "display_name": "Python 3.8.3 64-bit ('base': conda)"
  }
 },
 "nbformat": 4,
 "nbformat_minor": 2,
 "cells": [
  {
   "cell_type": "code",
   "execution_count": null,
   "metadata": {},
   "outputs": [],
   "source": [
    "# MNIST Dataset\n",
    "\n",
    "# Import to grab popular ML datasets\n",
    "from sklearn.datasets import fetch_openml\n",
    "\n",
    "# Grab MNIST\n",
    "mnist = fetch_openml('mnist_784', version=1)\n",
    "mnist.keys()"
   ]
  },
  {
   "cell_type": "code",
   "execution_count": null,
   "metadata": {
    "tags": []
   },
   "outputs": [],
   "source": [
    "# Datasets grabbed by sklearn often have a similar dictionary strucutre containing\n",
    "# 1. DESCR key describing the dataset\n",
    "# 2. data key containing an array with one row per instance and one column per feature\n",
    "# 3. target key containing an array with the labels\n",
    "\n",
    "# Display arrays\n",
    "X, y = mnist[\"data\"], mnist[\"target\"]\n",
    "print(X.shape)\n",
    "print(y.shape)\n",
    "\n",
    "# 70,000 images with 784 features"
   ]
  },
  {
   "cell_type": "code",
   "execution_count": null,
   "metadata": {
    "tags": []
   },
   "outputs": [],
   "source": [
    "import matplotlib as mpl\n",
    "import matplotlib.pyplot as plt\n",
    "\n",
    "# Plot out image (28 x 28) into an array with matplotlib\n",
    "some_digit = X[0]\n",
    "some_digital_image = some_digit.reshape(28,28)\n",
    "\n",
    "plt.imshow(some_digital_image, cmap=mpl.cm.binary, interpolation=\"nearest\")\n",
    "plt.axis('off')\n",
    "plt.show\n",
    "print(y[0])"
   ]
  },
  {
   "cell_type": "code",
   "execution_count": null,
   "metadata": {},
   "outputs": [],
   "source": [
    "# Cast y string variables into int variables\n",
    "import numpy as np\n",
    "y = y.astype(np.uint8)\n"
   ]
  },
  {
   "cell_type": "code",
   "execution_count": null,
   "metadata": {},
   "outputs": [],
   "source": [
    "# Create test/train sets\n",
    "# Note: All sets are already shuffled\n",
    "X_train, X_test, y_train, y_test = X[:60000], X[60000:], y[:60000], y[60000:]\n",
    "\n"
   ]
  },
  {
   "cell_type": "code",
   "execution_count": null,
   "metadata": {},
   "outputs": [],
   "source": [
    "# Create binary classifier for 5\n",
    "y_train_5 = (y_train == 5) # True for 5, false for non-5\n",
    "y_test_5 = (y_test == 5)\n",
    "\n",
    "# Training classifier\n",
    "from sklearn.linear_model import SGDClassifier\n",
    "\n",
    "# SGDCLassifier model\n",
    "# Note: very good at online learning\n",
    "sgd_clf = SGDClassifier(random_state=42)\n",
    "# Fit model\n",
    "sgd_clf.fit(X_train, y_train_5)\n",
    "\n"
   ]
  },
  {
   "cell_type": "code",
   "execution_count": null,
   "metadata": {},
   "outputs": [],
   "source": [
    "# Predict first image in array representing 5\n",
    "sgd_clf.predict([some_digit])\n",
    "\n",
    "# Correctly predicts the number 5"
   ]
  },
  {
   "cell_type": "code",
   "execution_count": null,
   "metadata": {
    "tags": []
   },
   "outputs": [],
   "source": [
    "# Evaluate performance of SGDClassifier model at current time\n",
    "# It is more difficult to predict accuracy of classifier models than regressor models\n",
    "# Many different evaluation measures will be shown\n",
    "\n",
    "# Measuring accuracy using cross-validation\n",
    "# Similarly used in Chp_2 project\n",
    "from sklearn.model_selection import StratifiedKFold\n",
    "from sklearn.base import clone\n",
    "\n",
    "# In order to gain more control in this cross-validation process the following code implements\n",
    "# cross-validation manually\n",
    "\n",
    "# Random_state ensures repeatable outputs. 42 is generally used\n",
    "skfolds = StratifiedKFold(n_splits=3, random_state=42)\n",
    "\n",
    "# StratifiedKFold performs stratified sampling (expl. chp. 2)\n",
    "# at each iteration the code creates a clone of the classifier, trains the clone on the training folds, and makes predictions on the\n",
    "# test fold\n",
    "# then it counts the number of correct predictions and outputs the ratio of correct predictions\n",
    "for train_index, test_index in skfolds.split(X_train, y_train_5):\n",
    "    clone_clf = clone(sgd_clf)\n",
    "    X_train_folds = X_train[train_index]\n",
    "    y_train_folds = y_train_5[train_index]\n",
    "    X_test_fold = X_train[test_index]\n",
    "    y_test_fold = y_train_5[test_index]\n",
    "\n",
    "    # Output ratio of correct predictions\n",
    "    clone_clf.fit(X_train_folds, y_train_folds)\n",
    "    y_pred = clone_clf.predict(X_test_fold)\n",
    "    n_correct = sum(y_pred == y_test_fold)\n",
    "    print(n_correct / len(y_pred)) # 0.95035, 0.96035, 0.9604"
   ]
  },
  {
   "cell_type": "code",
   "execution_count": null,
   "metadata": {},
   "outputs": [],
   "source": [
    "# cross_val_score to gauge accuracy (same as code above)\n",
    "from sklearn.model_selection import cross_val_score\n",
    "\n",
    "# See Chp 2 for further information\n",
    "cross_val_score(sgd_clf, X_train, y_train_5, cv=3, scoring=\"accuracy\")\n",
    "# 0.95035, 0.96035, 0.9604"
   ]
  },
  {
   "cell_type": "code",
   "execution_count": 12,
   "metadata": {},
   "outputs": [
    {
     "output_type": "execute_result",
     "data": {
      "text/plain": "array([0.91125, 0.90855, 0.90915])"
     },
     "metadata": {},
     "execution_count": 12
    }
   ],
   "source": [
    "# Dumb classifier that will look at every image in not-5 category\n",
    "from sklearn.base import BaseEstimator\n",
    "\n",
    "class Never5Classifier(BaseEstimator):\n",
    "    def fit(self,X,y=None):\n",
    "        pass\n",
    "    def predict(self,X):\n",
    "        return np.zeros((len(X),1), dtype=bool)\n",
    "\n",
    "never_5_clf = Never5Classifier()\n",
    "cross_val_score(never_5_clf, X_train, y_train_5, cv=3, scoring=\"accuracy\")\n",
    "\n",
    "# returns 0.91125, 0.90855, 0.90915\n",
    "# About 10% of the images are 5. So if you guess that an image is 'not-5' you will be right about 90% of the time\n",
    "# Accuracy is not generally a good indicator for classification models"
   ]
  },
  {
   "cell_type": "code",
   "execution_count": null,
   "metadata": {},
   "outputs": [],
   "source": []
  }
 ]
}