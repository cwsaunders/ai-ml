{
 "metadata": {
  "language_info": {
   "codemirror_mode": {
    "name": "ipython",
    "version": 3
   },
   "file_extension": ".py",
   "mimetype": "text/x-python",
   "name": "python",
   "nbconvert_exporter": "python",
   "pygments_lexer": "ipython3",
   "version": "3.8.3-final"
  },
  "orig_nbformat": 2,
  "kernelspec": {
   "name": "python_defaultSpec_1600220471158",
   "display_name": "Python 3.8.3 64-bit ('base': conda)"
  }
 },
 "nbformat": 4,
 "nbformat_minor": 2,
 "cells": [
  {
   "cell_type": "code",
   "execution_count": null,
   "metadata": {},
   "outputs": [],
   "source": [
    "# MNIST Dataset\n",
    "\n",
    "# Import to grab popular ML datasets\n",
    "from sklearn.datasets import fetch_openml\n",
    "\n",
    "# Grab MNIST\n",
    "mnist = fetch_openml('mnist_784', version=1)\n",
    "mnist.keys()"
   ]
  },
  {
   "cell_type": "code",
   "execution_count": null,
   "metadata": {
    "tags": []
   },
   "outputs": [],
   "source": [
    "# Datasets grabbed by sklearn often have a similar dictionary strucutre containing\n",
    "# 1. DESCR key describing the dataset\n",
    "# 2. data key containing an array with one row per instance and one column per feature\n",
    "# 3. target key containing an array with the labels\n",
    "\n",
    "# Display arrays\n",
    "X, y = mnist[\"data\"], mnist[\"target\"]\n",
    "print(X.shape)\n",
    "print(y.shape)\n",
    "\n",
    "# 70,000 images with 784 features"
   ]
  },
  {
   "cell_type": "code",
   "execution_count": null,
   "metadata": {
    "tags": []
   },
   "outputs": [],
   "source": [
    "import matplotlib as mpl\n",
    "import matplotlib.pyplot as plt\n",
    "\n",
    "# Plot out image (28 x 28) into an array with matplotlib\n",
    "some_digit = X[0]\n",
    "some_digital_image = some_digit.reshape(28,28)\n",
    "\n",
    "plt.imshow(some_digital_image, cmap=mpl.cm.binary, interpolation=\"nearest\")\n",
    "plt.axis('off')\n",
    "plt.show\n",
    "print(y[0])"
   ]
  },
  {
   "cell_type": "code",
   "execution_count": null,
   "metadata": {},
   "outputs": [],
   "source": [
    "# Cast y string variables into int variables\n",
    "import numpy as np\n",
    "y = y.astype(np.uint8)\n"
   ]
  },
  {
   "cell_type": "code",
   "execution_count": null,
   "metadata": {},
   "outputs": [],
   "source": [
    "# Create test/train sets\n",
    "# Note: All sets are already shuffled\n",
    "X_train, X_test, y_train, y_test = X[:60000], X[60000:], y[:60000], y[60000:]\n",
    "\n"
   ]
  },
  {
   "cell_type": "code",
   "execution_count": null,
   "metadata": {},
   "outputs": [],
   "source": [
    "# Create binary classifier for 5\n",
    "y_train_5 = (y_train == 5) # True for 5, false for non-5\n",
    "y_test_5 = (y_test == 5)\n",
    "\n",
    "# Training classifier\n",
    "from sklearn.linear_model import SGDClassifier\n",
    "\n",
    "# SGDCLassifier model\n",
    "# Note: very good at online learning\n",
    "sgd_clf = SGDClassifier(random_state=42)\n",
    "# Fit model\n",
    "sgd_clf.fit(X_train, y_train_5)\n",
    "\n"
   ]
  },
  {
   "cell_type": "code",
   "execution_count": null,
   "metadata": {},
   "outputs": [],
   "source": [
    "# Predict first image in array representing 5\n",
    "sgd_clf.predict([some_digit])\n",
    "\n",
    "# Correctly predicts the number 5"
   ]
  },
  {
   "cell_type": "code",
   "execution_count": null,
   "metadata": {
    "tags": []
   },
   "outputs": [],
   "source": [
    "# Evaluate performance of SGDClassifier model at current time\n",
    "# It is more difficult to predict accuracy of classifier models than regressor models\n",
    "# Many different evaluation measures will be shown\n",
    "\n",
    "# Measuring accuracy using cross-validation\n",
    "# Similarly used in Chp_2 project\n",
    "from sklearn.model_selection import StratifiedKFold\n",
    "from sklearn.base import clone\n",
    "\n",
    "# In order to gain more control in this cross-validation process the following code implements\n",
    "# cross-validation manually\n",
    "\n",
    "# Random_state ensures repeatable outputs. 42 is generally used\n",
    "skfolds = StratifiedKFold(n_splits=3, random_state=42)\n",
    "\n",
    "# StratifiedKFold performs stratified sampling (expl. chp. 2)\n",
    "# at each iteration the code creates a clone of the classifier, trains the clone on the training folds, and makes predictions on the\n",
    "# test fold\n",
    "# then it counts the number of correct predictions and outputs the ratio of correct predictions\n",
    "for train_index, test_index in skfolds.split(X_train, y_train_5):\n",
    "    clone_clf = clone(sgd_clf)\n",
    "    X_train_folds = X_train[train_index]\n",
    "    y_train_folds = y_train_5[train_index]\n",
    "    X_test_fold = X_train[test_index]\n",
    "    y_test_fold = y_train_5[test_index]\n",
    "\n",
    "    # Output ratio of correct predictions\n",
    "    clone_clf.fit(X_train_folds, y_train_folds)\n",
    "    y_pred = clone_clf.predict(X_test_fold)\n",
    "    n_correct = sum(y_pred == y_test_fold)\n",
    "    print(n_correct / len(y_pred)) # 0.95035, 0.96035, 0.9604"
   ]
  },
  {
   "cell_type": "code",
   "execution_count": null,
   "metadata": {},
   "outputs": [],
   "source": [
    "# cross_val_score to gauge accuracy (same as code above)\n",
    "from sklearn.model_selection import cross_val_score\n",
    "\n",
    "# See Chp 2 for further information\n",
    "cross_val_score(sgd_clf, X_train, y_train_5, cv=3, scoring=\"accuracy\")\n",
    "# 0.95035, 0.96035, 0.9604"
   ]
  },
  {
   "cell_type": "code",
   "execution_count": null,
   "metadata": {},
   "outputs": [],
   "source": [
    "# Dumb classifier that will look at every image in not-5 category\n",
    "from sklearn.base import BaseEstimator\n",
    "\n",
    "class Never5Classifier(BaseEstimator):\n",
    "    def fit(self,X,y=None):\n",
    "        pass\n",
    "    def predict(self,X):\n",
    "        return np.zeros((len(X),1), dtype=bool)\n",
    "\n",
    "never_5_clf = Never5Classifier()\n",
    "cross_val_score(never_5_clf, X_train, y_train_5, cv=3, scoring=\"accuracy\")\n",
    "\n",
    "# returns 0.91125, 0.90855, 0.90915\n",
    "# About 10% of the images are 5. So if you guess that an image is 'not-5' you will be right about 90% of the time\n",
    "# Accuracy is not generally a good indicator for classification models"
   ]
  },
  {
   "cell_type": "code",
   "execution_count": null,
   "metadata": {},
   "outputs": [],
   "source": [
    "# Confusion Matrix -- more ideal method of calculating classifier performance\n",
    "# Essentially counts the number of times instances of class A are classified as class B\n",
    "# e.g knowing the amount of times the classifier confused images of 5s with 3s\n",
    "\n",
    "# Initial step -- calculate set of predictions\n",
    "from sklearn.model_selection import cross_val_predict\n",
    "\n",
    "# cross_val_predict is similar to cross_val_score\n",
    "# performs k fold cross-validation but calculates predictions instead of scores\n",
    "y_train_pred = cross_val_predict(sgd_clf, X_train, y_train_5, cv=3)\n",
    "\n"
   ]
  },
  {
   "cell_type": "code",
   "execution_count": null,
   "metadata": {},
   "outputs": [],
   "source": [
    "# Confusion matrix creation\n",
    "from sklearn.metrics import confusion_matrix\n",
    "\n",
    "confusion_matrix(y_train_5, y_train_pred) # returns 53892, 687 (next row) 1891, 3530\n",
    "# each row represents an actual class, while each column represents a predicted class\n",
    "# Row 1: Correctly guessed non-5's, then false positives (incorrectly guessed as 5)\n",
    "# Row 2: False negatives (wrongly classified as non5s), then true positives (correctly classified as 5)\n",
    "# A perfect model would only have true negatives and true positives"
   ]
  },
  {
   "cell_type": "code",
   "execution_count": null,
   "metadata": {},
   "outputs": [],
   "source": [
    "y_train_perfect_predictions = y_train_5 # pretending that the model has reached perfection\n",
    "confusion_matrix(y_train_5, y_train_perfect_predictions) # Confusion matrix based on a 'perfect model' with our data"
   ]
  },
  {
   "cell_type": "code",
   "execution_count": null,
   "metadata": {
    "tags": []
   },
   "outputs": [],
   "source": [
    "# Precision calculations\n",
    "from sklearn.metrics import precision_score, recall_score\n",
    "\n",
    "print(precision_score(y_train_5, y_train_pred)) # Precision score, usually used in conjunction with recall score\n",
    "print(recall_score(y_train_5, y_train_pred)) # recall score\n",
    "\n",
    "# Precision score:  TP / (TP + FP)\n",
    "# Recall score: TP / (TP + FN)\n",
    "\n",
    "# Prints 0.83708 ...\n",
    "# Prints 0.651171 ..."
   ]
  },
  {
   "cell_type": "code",
   "execution_count": null,
   "metadata": {},
   "outputs": [],
   "source": [
    "# The F1 score is the harmonic mean between the precision score and recall score\n",
    "\n",
    "# F1 score:\n",
    "# 2/(1/precision + 1/recall)\n",
    "# Code for F1 Score\n",
    "from sklearn.metrics import f1_score\n",
    "\n",
    "f1_score(y_train_5, y_train_pred)"
   ]
  },
  {
   "cell_type": "code",
   "execution_count": null,
   "metadata": {
    "tags": []
   },
   "outputs": [],
   "source": [
    "# The decision threshhold for the classifier cannot be changed directly\n",
    "# However, the decision scores that it uses to make predictions can be accessed\n",
    "\n",
    "y_scores = sgd_clf.decision_function([some_digit])\n",
    "print(y_scores) # Print 2164.2203 ...\n",
    "\n",
    "threshhold = 0\n",
    "y_some_digit_pred = (y_scores > threshhold)\n",
    "print(y_some_digit_pred) # Print array [ True]\n"
   ]
  },
  {
   "cell_type": "code",
   "execution_count": null,
   "metadata": {
    "tags": []
   },
   "outputs": [],
   "source": [
    "threshhold = 8000 \n",
    "y_some_digit_pred = (y_scores > threshhold) # Boolean value for testing threshold vs score\n",
    "# when score is higher than threshhold it is true\n",
    "print(y_some_digit_pred)"
   ]
  },
  {
   "cell_type": "code",
   "execution_count": null,
   "metadata": {},
   "outputs": [],
   "source": [
    "# Finding the right decision score to use across all instances\n",
    "# not just [0]\n",
    "y_scores = cross_val_predict(sgd_clf, X_train, y_train_5, cv=3, method=\"decision_function\") # return decision scores\n",
    "\n",
    "from sklearn.metrics import precision_recall_curve\n",
    "\n",
    "precisions, recalls, threshholds = precision_recall_curve(y_train_5, y_scores) # Compue precision and recall for all possible threshholds\n",
    "\n",
    "# Function for plotting precision and recall\n",
    "# Graph can be used for precision / recall tradeoff calculations\n",
    "def plot_precision_recall_vs_threshhold(precisions,recalls,threshholds):\n",
    "    plt.plot(threshholds, precisions[:-1], \"b--\", label=\"Precision\")\n",
    "    plt.plot(threshholds,recalls[:-1], \"g-\", label=\"Recall\")\n",
    "\n",
    "plot_precision_recall_vs_threshhold(precisions,recalls,threshholds) \n",
    "plt.show()\n"
   ]
  },
  {
   "cell_type": "code",
   "execution_count": null,
   "metadata": {
    "tags": []
   },
   "outputs": [],
   "source": [
    "# With a goal of 90% precision, the exact threshhold value can be calculated\n",
    "threshhold_90_precision = threshholds[np.argmax(precisions >= 0.90)]\n",
    "print(threshhold_90_precision) # prints 3370.019\n",
    "\n",
    "# Make predictions on the training set\n",
    "y_train_pred_90 = (y_scores >= threshhold_90_precision) # create boolean\n",
    "\n",
    "print(precision_score(y_train_5, y_train_pred_90)) # precision using boolean -- print 0.9000345\n",
    "print(recall_score(y_train_5, y_train_pred_90)) # recall using boolean -- print 0.479985"
   ]
  },
  {
   "cell_type": "code",
   "execution_count": null,
   "metadata": {},
   "outputs": [],
   "source": [
    "# ROC Curve from sklearn.metrics\n",
    "from sklearn.metrics import roc_curve\n",
    "\n",
    "fpr, tpr, threshholds = roc_curve(y_train_5, y_scores)\n",
    "\n",
    "def plot_roc_curve(fpr,tpr,label=None):\n",
    "    plt.plot(fpr,tpr,linewidth=2,label=label)\n",
    "    plt.plot([0,1],[0,1],'k--') # dashed diagonal\n",
    "\n",
    "plot_roc_curve(fpr,tpr)\n",
    "plt.show()"
   ]
  },
  {
   "cell_type": "code",
   "execution_count": null,
   "metadata": {},
   "outputs": [],
   "source": [
    "from sklearn.metrics import roc_auc_score\n",
    "# AUC (area under the curve)\n",
    "# perfect classifier has AUC == 1 && ROC == 1\n",
    "# completely random classifier has AUC == 0.5 && ROC == 0.5\n",
    "roc_auc_score(y_train_5, y_scores) # print 0.960493 ...\n",
    "\n"
   ]
  },
  {
   "cell_type": "code",
   "execution_count": 23,
   "metadata": {},
   "outputs": [],
   "source": [
    "# Training RandomForestClassifier to compare ROC and ROC/AUC to SGDClassifier ROC ROC/AUC\n",
    "from sklearn.ensemble import RandomForestClassifier\n",
    "\n",
    "forest_clf = RandomForestClassifier(random_state=42) # Create model\n",
    "y_probas_forest = cross_val_predict(forest_clf,X_train,y_train_5,cv=3,method=\"predict_proba\") # Gather probabilities\n",
    "\n",
    "y_scores_forest = y_probas_forest[:,1] # Gather scores\n",
    "fpr_forest,tpr_forest,threshholds_forest = roc_curve(y_train_5,y_scores_forest) # Info for plotting ROC"
   ]
  },
  {
   "cell_type": "code",
   "execution_count": 24,
   "metadata": {},
   "outputs": [
    {
     "output_type": "display_data",
     "data": {
      "text/plain": "<Figure size 432x288 with 1 Axes>",
      "image/svg+xml": "<?xml version=\"1.0\" encoding=\"utf-8\" standalone=\"no\"?>\r\n<!DOCTYPE svg PUBLIC \"-//W3C//DTD SVG 1.1//EN\"\r\n  \"http://www.w3.org/Graphics/SVG/1.1/DTD/svg11.dtd\">\r\n<!-- Created with matplotlib (https://matplotlib.org/) -->\r\n<svg height=\"248.518125pt\" version=\"1.1\" viewBox=\"0 0 372.103125 248.518125\" width=\"372.103125pt\" xmlns=\"http://www.w3.org/2000/svg\" xmlns:xlink=\"http://www.w3.org/1999/xlink\">\r\n <defs>\r\n  <style type=\"text/css\">\r\n*{stroke-linecap:butt;stroke-linejoin:round;}\r\n  </style>\r\n </defs>\r\n <g id=\"figure_1\">\r\n  <g id=\"patch_1\">\r\n   <path d=\"M 0 248.518125 \r\nL 372.103125 248.518125 \r\nL 372.103125 0 \r\nL 0 0 \r\nz\r\n\" style=\"fill:none;\"/>\r\n  </g>\r\n  <g id=\"axes_1\">\r\n   <g id=\"patch_2\">\r\n    <path d=\"M 30.103125 224.64 \r\nL 364.903125 224.64 \r\nL 364.903125 7.2 \r\nL 30.103125 7.2 \r\nz\r\n\" style=\"fill:#ffffff;\"/>\r\n   </g>\r\n   <g id=\"matplotlib.axis_1\">\r\n    <g id=\"xtick_1\">\r\n     <g id=\"line2d_1\">\r\n      <defs>\r\n       <path d=\"M 0 0 \r\nL 0 3.5 \r\n\" id=\"m3e1c65a295\" style=\"stroke:#000000;stroke-width:0.8;\"/>\r\n      </defs>\r\n      <g>\r\n       <use style=\"stroke:#000000;stroke-width:0.8;\" x=\"45.321307\" xlink:href=\"#m3e1c65a295\" y=\"224.64\"/>\r\n      </g>\r\n     </g>\r\n     <g id=\"text_1\">\r\n      <!-- 0.0 -->\r\n      <defs>\r\n       <path d=\"M 31.78125 66.40625 \r\nQ 24.171875 66.40625 20.328125 58.90625 \r\nQ 16.5 51.421875 16.5 36.375 \r\nQ 16.5 21.390625 20.328125 13.890625 \r\nQ 24.171875 6.390625 31.78125 6.390625 \r\nQ 39.453125 6.390625 43.28125 13.890625 \r\nQ 47.125 21.390625 47.125 36.375 \r\nQ 47.125 51.421875 43.28125 58.90625 \r\nQ 39.453125 66.40625 31.78125 66.40625 \r\nz\r\nM 31.78125 74.21875 \r\nQ 44.046875 74.21875 50.515625 64.515625 \r\nQ 56.984375 54.828125 56.984375 36.375 \r\nQ 56.984375 17.96875 50.515625 8.265625 \r\nQ 44.046875 -1.421875 31.78125 -1.421875 \r\nQ 19.53125 -1.421875 13.0625 8.265625 \r\nQ 6.59375 17.96875 6.59375 36.375 \r\nQ 6.59375 54.828125 13.0625 64.515625 \r\nQ 19.53125 74.21875 31.78125 74.21875 \r\nz\r\n\" id=\"DejaVuSans-48\"/>\r\n       <path d=\"M 10.6875 12.40625 \r\nL 21 12.40625 \r\nL 21 0 \r\nL 10.6875 0 \r\nz\r\n\" id=\"DejaVuSans-46\"/>\r\n      </defs>\r\n      <g transform=\"translate(37.369744 239.238437)scale(0.1 -0.1)\">\r\n       <use xlink:href=\"#DejaVuSans-48\"/>\r\n       <use x=\"63.623047\" xlink:href=\"#DejaVuSans-46\"/>\r\n       <use x=\"95.410156\" xlink:href=\"#DejaVuSans-48\"/>\r\n      </g>\r\n     </g>\r\n    </g>\r\n    <g id=\"xtick_2\">\r\n     <g id=\"line2d_2\">\r\n      <g>\r\n       <use style=\"stroke:#000000;stroke-width:0.8;\" x=\"106.194034\" xlink:href=\"#m3e1c65a295\" y=\"224.64\"/>\r\n      </g>\r\n     </g>\r\n     <g id=\"text_2\">\r\n      <!-- 0.2 -->\r\n      <defs>\r\n       <path d=\"M 19.1875 8.296875 \r\nL 53.609375 8.296875 \r\nL 53.609375 0 \r\nL 7.328125 0 \r\nL 7.328125 8.296875 \r\nQ 12.9375 14.109375 22.625 23.890625 \r\nQ 32.328125 33.6875 34.8125 36.53125 \r\nQ 39.546875 41.84375 41.421875 45.53125 \r\nQ 43.3125 49.21875 43.3125 52.78125 \r\nQ 43.3125 58.59375 39.234375 62.25 \r\nQ 35.15625 65.921875 28.609375 65.921875 \r\nQ 23.96875 65.921875 18.8125 64.3125 \r\nQ 13.671875 62.703125 7.8125 59.421875 \r\nL 7.8125 69.390625 \r\nQ 13.765625 71.78125 18.9375 73 \r\nQ 24.125 74.21875 28.421875 74.21875 \r\nQ 39.75 74.21875 46.484375 68.546875 \r\nQ 53.21875 62.890625 53.21875 53.421875 \r\nQ 53.21875 48.921875 51.53125 44.890625 \r\nQ 49.859375 40.875 45.40625 35.40625 \r\nQ 44.1875 33.984375 37.640625 27.21875 \r\nQ 31.109375 20.453125 19.1875 8.296875 \r\nz\r\n\" id=\"DejaVuSans-50\"/>\r\n      </defs>\r\n      <g transform=\"translate(98.242472 239.238437)scale(0.1 -0.1)\">\r\n       <use xlink:href=\"#DejaVuSans-48\"/>\r\n       <use x=\"63.623047\" xlink:href=\"#DejaVuSans-46\"/>\r\n       <use x=\"95.410156\" xlink:href=\"#DejaVuSans-50\"/>\r\n      </g>\r\n     </g>\r\n    </g>\r\n    <g id=\"xtick_3\">\r\n     <g id=\"line2d_3\">\r\n      <g>\r\n       <use style=\"stroke:#000000;stroke-width:0.8;\" x=\"167.066761\" xlink:href=\"#m3e1c65a295\" y=\"224.64\"/>\r\n      </g>\r\n     </g>\r\n     <g id=\"text_3\">\r\n      <!-- 0.4 -->\r\n      <defs>\r\n       <path d=\"M 37.796875 64.3125 \r\nL 12.890625 25.390625 \r\nL 37.796875 25.390625 \r\nz\r\nM 35.203125 72.90625 \r\nL 47.609375 72.90625 \r\nL 47.609375 25.390625 \r\nL 58.015625 25.390625 \r\nL 58.015625 17.1875 \r\nL 47.609375 17.1875 \r\nL 47.609375 0 \r\nL 37.796875 0 \r\nL 37.796875 17.1875 \r\nL 4.890625 17.1875 \r\nL 4.890625 26.703125 \r\nz\r\n\" id=\"DejaVuSans-52\"/>\r\n      </defs>\r\n      <g transform=\"translate(159.115199 239.238437)scale(0.1 -0.1)\">\r\n       <use xlink:href=\"#DejaVuSans-48\"/>\r\n       <use x=\"63.623047\" xlink:href=\"#DejaVuSans-46\"/>\r\n       <use x=\"95.410156\" xlink:href=\"#DejaVuSans-52\"/>\r\n      </g>\r\n     </g>\r\n    </g>\r\n    <g id=\"xtick_4\">\r\n     <g id=\"line2d_4\">\r\n      <g>\r\n       <use style=\"stroke:#000000;stroke-width:0.8;\" x=\"227.939489\" xlink:href=\"#m3e1c65a295\" y=\"224.64\"/>\r\n      </g>\r\n     </g>\r\n     <g id=\"text_4\">\r\n      <!-- 0.6 -->\r\n      <defs>\r\n       <path d=\"M 33.015625 40.375 \r\nQ 26.375 40.375 22.484375 35.828125 \r\nQ 18.609375 31.296875 18.609375 23.390625 \r\nQ 18.609375 15.53125 22.484375 10.953125 \r\nQ 26.375 6.390625 33.015625 6.390625 \r\nQ 39.65625 6.390625 43.53125 10.953125 \r\nQ 47.40625 15.53125 47.40625 23.390625 \r\nQ 47.40625 31.296875 43.53125 35.828125 \r\nQ 39.65625 40.375 33.015625 40.375 \r\nz\r\nM 52.59375 71.296875 \r\nL 52.59375 62.3125 \r\nQ 48.875 64.0625 45.09375 64.984375 \r\nQ 41.3125 65.921875 37.59375 65.921875 \r\nQ 27.828125 65.921875 22.671875 59.328125 \r\nQ 17.53125 52.734375 16.796875 39.40625 \r\nQ 19.671875 43.65625 24.015625 45.921875 \r\nQ 28.375 48.1875 33.59375 48.1875 \r\nQ 44.578125 48.1875 50.953125 41.515625 \r\nQ 57.328125 34.859375 57.328125 23.390625 \r\nQ 57.328125 12.15625 50.6875 5.359375 \r\nQ 44.046875 -1.421875 33.015625 -1.421875 \r\nQ 20.359375 -1.421875 13.671875 8.265625 \r\nQ 6.984375 17.96875 6.984375 36.375 \r\nQ 6.984375 53.65625 15.1875 63.9375 \r\nQ 23.390625 74.21875 37.203125 74.21875 \r\nQ 40.921875 74.21875 44.703125 73.484375 \r\nQ 48.484375 72.75 52.59375 71.296875 \r\nz\r\n\" id=\"DejaVuSans-54\"/>\r\n      </defs>\r\n      <g transform=\"translate(219.987926 239.238437)scale(0.1 -0.1)\">\r\n       <use xlink:href=\"#DejaVuSans-48\"/>\r\n       <use x=\"63.623047\" xlink:href=\"#DejaVuSans-46\"/>\r\n       <use x=\"95.410156\" xlink:href=\"#DejaVuSans-54\"/>\r\n      </g>\r\n     </g>\r\n    </g>\r\n    <g id=\"xtick_5\">\r\n     <g id=\"line2d_5\">\r\n      <g>\r\n       <use style=\"stroke:#000000;stroke-width:0.8;\" x=\"288.812216\" xlink:href=\"#m3e1c65a295\" y=\"224.64\"/>\r\n      </g>\r\n     </g>\r\n     <g id=\"text_5\">\r\n      <!-- 0.8 -->\r\n      <defs>\r\n       <path d=\"M 31.78125 34.625 \r\nQ 24.75 34.625 20.71875 30.859375 \r\nQ 16.703125 27.09375 16.703125 20.515625 \r\nQ 16.703125 13.921875 20.71875 10.15625 \r\nQ 24.75 6.390625 31.78125 6.390625 \r\nQ 38.8125 6.390625 42.859375 10.171875 \r\nQ 46.921875 13.96875 46.921875 20.515625 \r\nQ 46.921875 27.09375 42.890625 30.859375 \r\nQ 38.875 34.625 31.78125 34.625 \r\nz\r\nM 21.921875 38.8125 \r\nQ 15.578125 40.375 12.03125 44.71875 \r\nQ 8.5 49.078125 8.5 55.328125 \r\nQ 8.5 64.0625 14.71875 69.140625 \r\nQ 20.953125 74.21875 31.78125 74.21875 \r\nQ 42.671875 74.21875 48.875 69.140625 \r\nQ 55.078125 64.0625 55.078125 55.328125 \r\nQ 55.078125 49.078125 51.53125 44.71875 \r\nQ 48 40.375 41.703125 38.8125 \r\nQ 48.828125 37.15625 52.796875 32.3125 \r\nQ 56.78125 27.484375 56.78125 20.515625 \r\nQ 56.78125 9.90625 50.3125 4.234375 \r\nQ 43.84375 -1.421875 31.78125 -1.421875 \r\nQ 19.734375 -1.421875 13.25 4.234375 \r\nQ 6.78125 9.90625 6.78125 20.515625 \r\nQ 6.78125 27.484375 10.78125 32.3125 \r\nQ 14.796875 37.15625 21.921875 38.8125 \r\nz\r\nM 18.3125 54.390625 \r\nQ 18.3125 48.734375 21.84375 45.5625 \r\nQ 25.390625 42.390625 31.78125 42.390625 \r\nQ 38.140625 42.390625 41.71875 45.5625 \r\nQ 45.3125 48.734375 45.3125 54.390625 \r\nQ 45.3125 60.0625 41.71875 63.234375 \r\nQ 38.140625 66.40625 31.78125 66.40625 \r\nQ 25.390625 66.40625 21.84375 63.234375 \r\nQ 18.3125 60.0625 18.3125 54.390625 \r\nz\r\n\" id=\"DejaVuSans-56\"/>\r\n      </defs>\r\n      <g transform=\"translate(280.860653 239.238437)scale(0.1 -0.1)\">\r\n       <use xlink:href=\"#DejaVuSans-48\"/>\r\n       <use x=\"63.623047\" xlink:href=\"#DejaVuSans-46\"/>\r\n       <use x=\"95.410156\" xlink:href=\"#DejaVuSans-56\"/>\r\n      </g>\r\n     </g>\r\n    </g>\r\n    <g id=\"xtick_6\">\r\n     <g id=\"line2d_6\">\r\n      <g>\r\n       <use style=\"stroke:#000000;stroke-width:0.8;\" x=\"349.684943\" xlink:href=\"#m3e1c65a295\" y=\"224.64\"/>\r\n      </g>\r\n     </g>\r\n     <g id=\"text_6\">\r\n      <!-- 1.0 -->\r\n      <defs>\r\n       <path d=\"M 12.40625 8.296875 \r\nL 28.515625 8.296875 \r\nL 28.515625 63.921875 \r\nL 10.984375 60.40625 \r\nL 10.984375 69.390625 \r\nL 28.421875 72.90625 \r\nL 38.28125 72.90625 \r\nL 38.28125 8.296875 \r\nL 54.390625 8.296875 \r\nL 54.390625 0 \r\nL 12.40625 0 \r\nz\r\n\" id=\"DejaVuSans-49\"/>\r\n      </defs>\r\n      <g transform=\"translate(341.733381 239.238437)scale(0.1 -0.1)\">\r\n       <use xlink:href=\"#DejaVuSans-49\"/>\r\n       <use x=\"63.623047\" xlink:href=\"#DejaVuSans-46\"/>\r\n       <use x=\"95.410156\" xlink:href=\"#DejaVuSans-48\"/>\r\n      </g>\r\n     </g>\r\n    </g>\r\n   </g>\r\n   <g id=\"matplotlib.axis_2\">\r\n    <g id=\"ytick_1\">\r\n     <g id=\"line2d_7\">\r\n      <defs>\r\n       <path d=\"M 0 0 \r\nL -3.5 0 \r\n\" id=\"m6329bf4749\" style=\"stroke:#000000;stroke-width:0.8;\"/>\r\n      </defs>\r\n      <g>\r\n       <use style=\"stroke:#000000;stroke-width:0.8;\" x=\"30.103125\" xlink:href=\"#m6329bf4749\" y=\"214.756364\"/>\r\n      </g>\r\n     </g>\r\n     <g id=\"text_7\">\r\n      <!-- 0.0 -->\r\n      <g transform=\"translate(7.2 218.555582)scale(0.1 -0.1)\">\r\n       <use xlink:href=\"#DejaVuSans-48\"/>\r\n       <use x=\"63.623047\" xlink:href=\"#DejaVuSans-46\"/>\r\n       <use x=\"95.410156\" xlink:href=\"#DejaVuSans-48\"/>\r\n      </g>\r\n     </g>\r\n    </g>\r\n    <g id=\"ytick_2\">\r\n     <g id=\"line2d_8\">\r\n      <g>\r\n       <use style=\"stroke:#000000;stroke-width:0.8;\" x=\"30.103125\" xlink:href=\"#m6329bf4749\" y=\"175.221818\"/>\r\n      </g>\r\n     </g>\r\n     <g id=\"text_8\">\r\n      <!-- 0.2 -->\r\n      <g transform=\"translate(7.2 179.021037)scale(0.1 -0.1)\">\r\n       <use xlink:href=\"#DejaVuSans-48\"/>\r\n       <use x=\"63.623047\" xlink:href=\"#DejaVuSans-46\"/>\r\n       <use x=\"95.410156\" xlink:href=\"#DejaVuSans-50\"/>\r\n      </g>\r\n     </g>\r\n    </g>\r\n    <g id=\"ytick_3\">\r\n     <g id=\"line2d_9\">\r\n      <g>\r\n       <use style=\"stroke:#000000;stroke-width:0.8;\" x=\"30.103125\" xlink:href=\"#m6329bf4749\" y=\"135.687273\"/>\r\n      </g>\r\n     </g>\r\n     <g id=\"text_9\">\r\n      <!-- 0.4 -->\r\n      <g transform=\"translate(7.2 139.486491)scale(0.1 -0.1)\">\r\n       <use xlink:href=\"#DejaVuSans-48\"/>\r\n       <use x=\"63.623047\" xlink:href=\"#DejaVuSans-46\"/>\r\n       <use x=\"95.410156\" xlink:href=\"#DejaVuSans-52\"/>\r\n      </g>\r\n     </g>\r\n    </g>\r\n    <g id=\"ytick_4\">\r\n     <g id=\"line2d_10\">\r\n      <g>\r\n       <use style=\"stroke:#000000;stroke-width:0.8;\" x=\"30.103125\" xlink:href=\"#m6329bf4749\" y=\"96.152727\"/>\r\n      </g>\r\n     </g>\r\n     <g id=\"text_10\">\r\n      <!-- 0.6 -->\r\n      <g transform=\"translate(7.2 99.951946)scale(0.1 -0.1)\">\r\n       <use xlink:href=\"#DejaVuSans-48\"/>\r\n       <use x=\"63.623047\" xlink:href=\"#DejaVuSans-46\"/>\r\n       <use x=\"95.410156\" xlink:href=\"#DejaVuSans-54\"/>\r\n      </g>\r\n     </g>\r\n    </g>\r\n    <g id=\"ytick_5\">\r\n     <g id=\"line2d_11\">\r\n      <g>\r\n       <use style=\"stroke:#000000;stroke-width:0.8;\" x=\"30.103125\" xlink:href=\"#m6329bf4749\" y=\"56.618182\"/>\r\n      </g>\r\n     </g>\r\n     <g id=\"text_11\">\r\n      <!-- 0.8 -->\r\n      <g transform=\"translate(7.2 60.417401)scale(0.1 -0.1)\">\r\n       <use xlink:href=\"#DejaVuSans-48\"/>\r\n       <use x=\"63.623047\" xlink:href=\"#DejaVuSans-46\"/>\r\n       <use x=\"95.410156\" xlink:href=\"#DejaVuSans-56\"/>\r\n      </g>\r\n     </g>\r\n    </g>\r\n    <g id=\"ytick_6\">\r\n     <g id=\"line2d_12\">\r\n      <g>\r\n       <use style=\"stroke:#000000;stroke-width:0.8;\" x=\"30.103125\" xlink:href=\"#m6329bf4749\" y=\"17.083636\"/>\r\n      </g>\r\n     </g>\r\n     <g id=\"text_12\">\r\n      <!-- 1.0 -->\r\n      <g transform=\"translate(7.2 20.882855)scale(0.1 -0.1)\">\r\n       <use xlink:href=\"#DejaVuSans-49\"/>\r\n       <use x=\"63.623047\" xlink:href=\"#DejaVuSans-46\"/>\r\n       <use x=\"95.410156\" xlink:href=\"#DejaVuSans-48\"/>\r\n      </g>\r\n     </g>\r\n    </g>\r\n   </g>\r\n   <g id=\"line2d_13\">\r\n    <path clip-path=\"url(#p47623137bb)\" d=\"M 45.321307 214.756364 \r\nL 45.427262 196.232522 \r\nL 45.432838 196.232522 \r\nL 45.538793 179.641286 \r\nL 45.54437 179.641286 \r\nL 45.650324 173.58822 \r\nL 45.661478 173.551755 \r\nL 45.767432 166.805868 \r\nL 45.773009 166.805868 \r\nL 45.878964 160.278766 \r\nL 45.895694 160.205838 \r\nL 46.001648 152.985915 \r\nL 46.007225 152.985915 \r\nL 46.11318 147.844455 \r\nL 46.124333 147.807991 \r\nL 46.230288 143.505209 \r\nL 46.241441 143.432281 \r\nL 46.347396 138.400213 \r\nL 46.352972 138.400213 \r\nL 46.458927 133.514003 \r\nL 46.481233 133.441075 \r\nL 46.587188 128.883043 \r\nL 46.603918 128.810114 \r\nL 46.709873 125.09076 \r\nL 46.721026 125.017832 \r\nL 46.826981 122.17362 \r\nL 46.838134 122.100691 \r\nL 46.944089 119.839907 \r\nL 46.971972 119.730515 \r\nL 47.07235 117.761445 \r\nL 47.094656 117.724981 \r\nL 47.200611 115.57359 \r\nL 47.211764 115.57359 \r\nL 47.317719 113.057556 \r\nL 47.323296 113.057556 \r\nL 47.42925 110.468594 \r\nL 47.434827 110.468594 \r\nL 47.540782 108.244274 \r\nL 47.557512 108.134882 \r\nL 47.663466 106.348133 \r\nL 47.680196 106.23874 \r\nL 47.774998 104.597849 \r\nL 47.797304 104.597849 \r\nL 47.903259 103.102814 \r\nL 47.914412 103.029886 \r\nL 48.020367 100.878495 \r\nL 48.037097 100.84203 \r\nL 48.131898 99.346996 \r\nL 48.170934 99.237603 \r\nL 48.271313 97.341462 \r\nL 48.293619 97.304998 \r\nL 48.388421 95.481785 \r\nL 48.40515 95.481785 \r\nL 48.511105 93.804429 \r\nL 48.527835 93.695036 \r\nL 48.63379 92.272931 \r\nL 48.656096 92.163538 \r\nL 48.762051 90.81436 \r\nL 48.77878 90.777896 \r\nL 48.884735 89.647504 \r\nL 48.895888 89.574576 \r\nL 49.001843 88.15247 \r\nL 49.012996 88.116005 \r\nL 49.118951 86.693899 \r\nL 49.124528 86.693899 \r\nL 49.224906 85.745829 \r\nL 49.258366 85.636436 \r\nL 49.36432 84.287259 \r\nL 49.386627 84.177866 \r\nL 49.481428 83.557974 \r\nL 49.526041 83.448581 \r\nL 49.620843 82.573439 \r\nL 49.654302 82.464046 \r\nL 49.737951 81.005476 \r\nL 49.78814 80.896083 \r\nL 49.894095 79.765691 \r\nL 49.921977 79.656298 \r\nL 50.022356 78.890549 \r\nL 50.039085 78.854085 \r\nL 50.14504 77.322586 \r\nL 50.1785 77.213193 \r\nL 50.284454 76.374515 \r\nL 50.329067 76.265123 \r\nL 50.423869 75.317052 \r\nL 50.457328 75.244123 \r\nL 50.55213 74.770088 \r\nL 50.574436 74.733624 \r\nL 50.663661 74.004339 \r\nL 50.708274 73.967874 \r\nL 50.786346 73.384446 \r\nL 50.830958 73.384446 \r\nL 50.931337 72.326983 \r\nL 50.970373 72.21759 \r\nL 51.070751 71.670626 \r\nL 51.13767 71.634162 \r\nL 51.243625 70.576699 \r\nL 51.254778 70.576699 \r\nL 51.349579 70.029735 \r\nL 51.388615 69.920342 \r\nL 51.483417 69.519235 \r\nL 51.516877 69.409843 \r\nL 51.600525 68.972271 \r\nL 51.650714 68.862879 \r\nL 51.756669 68.133594 \r\nL 51.845894 68.024201 \r\nL 51.91839 67.878344 \r\nL 52.013191 67.805415 \r\nL 52.11357 67.258451 \r\nL 52.130299 67.258451 \r\nL 52.236254 67.003202 \r\nL 52.252984 67.003202 \r\nL 52.353362 66.346845 \r\nL 52.425858 66.237452 \r\nL 52.531812 65.690489 \r\nL 52.582001 65.581096 \r\nL 52.687956 64.851811 \r\nL 52.738145 64.742418 \r\nL 52.8441 64.377775 \r\nL 52.883136 64.268383 \r\nL 52.977938 63.575562 \r\nL 53.028127 63.466169 \r\nL 53.095046 62.992134 \r\nL 53.206577 62.882741 \r\nL 53.306956 62.408706 \r\nL 53.351568 62.299313 \r\nL 53.457523 61.898206 \r\nL 53.479829 61.788813 \r\nL 53.574631 61.460635 \r\nL 53.613667 61.351242 \r\nL 53.719622 60.767814 \r\nL 53.786541 60.658421 \r\nL 53.892496 60.403172 \r\nL 53.931532 60.293779 \r\nL 54.03191 59.746815 \r\nL 54.054216 59.710351 \r\nL 54.154594 59.382172 \r\nL 54.188054 59.27278 \r\nL 54.288432 58.835209 \r\nL 54.327468 58.76228 \r\nL 54.427846 58.288245 \r\nL 54.539378 58.178852 \r\nL 54.645333 57.923602 \r\nL 54.673215 57.814209 \r\nL 54.756864 57.595424 \r\nL 54.818206 57.486031 \r\nL 54.924161 57.194317 \r\nL 54.97435 57.121389 \r\nL 55.046846 56.720282 \r\nL 55.119341 56.610889 \r\nL 55.20299 56.392103 \r\nL 55.275485 56.282711 \r\nL 55.359134 56.027461 \r\nL 55.453935 55.918068 \r\nL 55.537584 55.58989 \r\nL 55.637962 55.516961 \r\nL 55.732764 55.07939 \r\nL 55.777376 55.006462 \r\nL 55.877755 54.605355 \r\nL 56.039475 54.532426 \r\nL 56.111971 54.386569 \r\nL 56.184466 54.277177 \r\nL 56.290421 53.912534 \r\nL 56.307151 53.803141 \r\nL 56.385223 53.511427 \r\nL 56.585979 53.402035 \r\nL 56.680781 53.073856 \r\nL 56.764429 52.964463 \r\nL 56.864808 52.709214 \r\nL 56.898267 52.599821 \r\nL 56.976339 52.235178 \r\nL 57.071141 52.125786 \r\nL 57.160366 51.870536 \r\nL 57.204978 51.761143 \r\nL 57.29978 51.578822 \r\nL 57.355546 51.469429 \r\nL 57.383429 51.250643 \r\nL 57.561879 51.141251 \r\nL 57.662257 51.031858 \r\nL 57.701293 50.922465 \r\nL 57.779365 50.594287 \r\nL 57.863014 50.484894 \r\nL 57.968969 50.156716 \r\nL 58.069347 50.083787 \r\nL 58.164148 49.865002 \r\nL 58.253374 49.792073 \r\nL 58.359328 49.536823 \r\nL 58.476436 49.427431 \r\nL 58.565662 49.281574 \r\nL 58.766418 49.172181 \r\nL 58.850067 49.026324 \r\nL 59.03967 48.916931 \r\nL 59.134472 48.515824 \r\nL 59.201391 48.406432 \r\nL 59.279463 48.260575 \r\nL 59.329652 48.187646 \r\nL 59.424453 47.786539 \r\nL 59.569444 47.677146 \r\nL 59.647516 47.458361 \r\nL 59.831543 47.348968 \r\nL 59.876156 47.239575 \r\nL 59.976534 47.130183 \r\nL 60.071336 46.984326 \r\nL 60.166137 46.874933 \r\nL 60.260939 46.656147 \r\nL 60.333434 46.583219 \r\nL 60.439389 46.218576 \r\nL 60.679182 46.145648 \r\nL 60.76283 45.926862 \r\nL 60.857632 45.817469 \r\nL 60.963587 45.598684 \r\nL 61.075118 45.489291 \r\nL 61.181073 45.343434 \r\nL 61.247992 45.234041 \r\nL 61.292604 45.124649 \r\nL 61.510091 45.015256 \r\nL 61.588163 44.79647 \r\nL 61.699694 44.687078 \r\nL 61.744307 44.541221 \r\nL 61.866991 44.431828 \r\nL 61.866991 44.358899 \r\nL 62.14582 44.285971 \r\nL 62.207162 44.140114 \r\nL 62.396765 44.030721 \r\nL 62.485991 43.811935 \r\nL 62.792702 43.702543 \r\nL 62.887504 43.410829 \r\nL 63.015765 43.301436 \r\nL 63.110566 43.009722 \r\nL 63.277864 42.900329 \r\nL 63.372665 42.754472 \r\nL 63.46189 42.645079 \r\nL 63.534386 42.462758 \r\nL 63.735142 42.353365 \r\nL 63.740719 42.280437 \r\nL 63.947052 42.207508 \r\nL 63.974935 42.098115 \r\nL 64.136655 41.988723 \r\nL 64.237034 41.769937 \r\nL 64.415484 41.660544 \r\nL 64.504709 41.587616 \r\nL 64.605087 41.478223 \r\nL 64.605087 41.441759 \r\nL 64.856033 41.332366 \r\nL 64.928528 41.186509 \r\nL 65.106979 41.077116 \r\nL 65.173897 40.931259 \r\nL 65.497339 40.821866 \r\nL 65.530798 40.676009 \r\nL 65.681365 40.566617 \r\nL 65.686942 40.493688 \r\nL 65.854239 40.384295 \r\nL 65.960194 40.201974 \r\nL 66.233446 40.092581 \r\nL 66.305941 39.983189 \r\nL 66.623806 39.873796 \r\nL 66.685148 39.800867 \r\nL 66.824562 39.691475 \r\nL 66.885905 39.582082 \r\nL 67.493751 39.472689 \r\nL 67.52721 39.399761 \r\nL 67.872958 39.290368 \r\nL 67.911994 39.144511 \r\nL 68.017948 39.035118 \r\nL 68.084867 38.925725 \r\nL 68.491957 38.816332 \r\nL 68.592335 38.670475 \r\nL 68.659254 38.561083 \r\nL 68.748479 38.415226 \r\nL 68.988272 38.305833 \r\nL 69.060767 38.19644 \r\nL 69.339596 38.087047 \r\nL 69.428821 37.977655 \r\nL 69.64073 37.868262 \r\nL 69.741109 37.685941 \r\nL 69.858217 37.576548 \r\nL 69.908406 37.430691 \r\nL 70.159351 37.321298 \r\nL 70.22627 37.211905 \r\nL 70.583171 37.102512 \r\nL 70.672396 36.920191 \r\nL 70.850846 36.810798 \r\nL 70.878729 36.701406 \r\nL 71.057179 36.592013 \r\nL 71.118522 36.519084 \r\nL 71.492152 36.409692 \r\nL 71.497728 36.336763 \r\nL 71.748674 36.22737 \r\nL 71.765404 36.154442 \r\nL 72.14461 36.045049 \r\nL 72.244989 35.862728 \r\nL 72.367673 35.753335 \r\nL 72.462475 35.680406 \r\nL 72.646502 35.571014 \r\nL 72.724574 35.461621 \r\nL 73.059168 35.352228 \r\nL 73.159546 35.2793 \r\nL 73.605672 35.169907 \r\nL 73.639131 35.096978 \r\nL 74.224671 34.987586 \r\nL 74.27486 34.914657 \r\nL 74.760022 34.805264 \r\nL 74.821364 34.732336 \r\nL 75.144805 34.622943 \r\nL 75.144805 34.586479 \r\nL 75.512859 34.477086 \r\nL 75.512859 34.440622 \r\nL 75.947832 34.331229 \r\nL 76.053786 34.185372 \r\nL 76.354921 34.075979 \r\nL 76.460876 33.930122 \r\nL 76.907002 33.820729 \r\nL 76.907002 33.784265 \r\nL 77.347551 33.674872 \r\nL 77.453506 33.529015 \r\nL 77.799253 33.419623 \r\nL 77.799253 33.383158 \r\nL 78.039045 33.273766 \r\nL 78.083658 33.164373 \r\nL 78.451712 33.05498 \r\nL 78.451712 33.018516 \r\nL 78.842072 32.909123 \r\nL 78.903414 32.836195 \r\nL 79.51126 32.726802 \r\nL 79.51126 32.690338 \r\nL 79.962962 32.580945 \r\nL 79.962962 32.544481 \r\nL 80.397935 32.435088 \r\nL 80.481583 32.362159 \r\nL 80.743682 32.252767 \r\nL 80.771565 32.143374 \r\nL 81.373835 32.033981 \r\nL 81.401717 31.961052 \r\nL 82.438959 31.85166 \r\nL 82.472419 31.742267 \r\nL 83.035652 31.632874 \r\nL 83.074688 31.559946 \r\nL 83.77176 31.450553 \r\nL 83.816372 31.34116 \r\nL 84.106354 31.231767 \r\nL 84.150967 31.122375 \r\nL 84.680741 31.012982 \r\nL 84.680741 30.976518 \r\nL 85.578569 30.867125 \r\nL 85.656641 30.794196 \r\nL 86.058154 30.684804 \r\nL 86.08046 30.611875 \r\nL 86.638117 30.502482 \r\nL 86.693883 30.39309 \r\nL 87.708818 30.283697 \r\nL 87.759008 30.210768 \r\nL 89.024889 30.101375 \r\nL 89.024889 30.064911 \r\nL 89.783303 29.991983 \r\nL 89.783303 29.919054 \r\nL 90.51941 29.809661 \r\nL 90.614212 29.736733 \r\nL 91.244364 29.62734 \r\nL 91.244364 29.590876 \r\nL 91.707219 29.481483 \r\nL 91.774138 29.37209 \r\nL 92.214687 29.262698 \r\nL 92.214687 29.226233 \r\nL 92.995407 29.116841 \r\nL 92.995407 29.080376 \r\nL 93.60883 28.970984 \r\nL 93.60883 28.934519 \r\nL 94.484352 28.825127 \r\nL 94.484352 28.788662 \r\nL 95.304107 28.67927 \r\nL 95.304107 28.642805 \r\nL 95.750233 28.533412 \r\nL 95.750233 28.496948 \r\nL 96.296737 28.387555 \r\nL 96.352503 28.314627 \r\nL 96.882277 28.205234 \r\nL 96.882277 28.16877 \r\nL 97.807988 28.059377 \r\nL 97.886059 27.986449 \r\nL 98.856383 27.877056 \r\nL 98.873112 27.804127 \r\nL 100.244949 27.694735 \r\nL 100.244949 27.65827 \r\nL 101.12047 27.548878 \r\nL 101.12047 27.512413 \r\nL 101.70601 27.403021 \r\nL 101.70601 27.366556 \r\nL 102.759982 27.257164 \r\nL 102.849207 27.147771 \r\nL 104.354881 27.038378 \r\nL 104.444106 26.96545 \r\nL 104.945998 26.856057 \r\nL 105.035223 26.7102 \r\nL 105.854979 26.600807 \r\nL 105.854979 26.564343 \r\nL 106.362447 26.45495 \r\nL 106.440519 26.382021 \r\nL 107.327193 26.272629 \r\nL 107.327193 26.236164 \r\nL 108.013111 26.126772 \r\nL 108.013111 26.090307 \r\nL 109.083813 25.980915 \r\nL 109.083813 25.94445 \r\nL 109.875686 25.835058 \r\nL 109.875686 25.798593 \r\nL 111.320018 25.689201 \r\nL 111.353477 25.616272 \r\nL 113.032025 25.506879 \r\nL 113.126826 25.397487 \r\nL 114.108303 25.288094 \r\nL 114.141762 25.215165 \r\nL 116.19394 25.105773 \r\nL 116.277589 24.99638 \r\nL 117.649425 24.886987 \r\nL 117.649425 24.850523 \r\nL 121.98242 24.74113 \r\nL 121.98242 24.704666 \r\nL 122.813329 24.595273 \r\nL 122.813329 24.558809 \r\nL 124.040175 24.48588 \r\nL 124.040175 24.412952 \r\nL 125.345092 24.303559 \r\nL 125.44547 24.23063 \r\nL 127.335928 24.121238 \r\nL 127.335928 24.084773 \r\nL 129.159466 23.975381 \r\nL 129.159466 23.938916 \r\nL 130.938392 23.829524 \r\nL 130.938392 23.793059 \r\nL 132.170814 23.683667 \r\nL 132.170814 23.647202 \r\nL 132.81212 23.53781 \r\nL 132.81212 23.501345 \r\nL 134.061272 23.391953 \r\nL 134.061272 23.355488 \r\nL 135.539063 23.246095 \r\nL 135.539063 23.209631 \r\nL 136.280747 23.100238 \r\nL 136.280747 23.063774 \r\nL 138.410997 22.954381 \r\nL 138.410997 22.917917 \r\nL 142.09711 22.808524 \r\nL 142.124993 22.735596 \r\nL 143.212424 22.626203 \r\nL 143.212424 22.589739 \r\nL 145.454205 22.480346 \r\nL 145.454205 22.443882 \r\nL 146.062051 22.334489 \r\nL 146.062051 22.298025 \r\nL 146.625285 22.188632 \r\nL 146.625285 22.152168 \r\nL 151.878414 22.042775 \r\nL 151.878414 22.006311 \r\nL 154.097889 21.896918 \r\nL 154.097889 21.860454 \r\nL 157.756119 21.751061 \r\nL 157.756119 21.714597 \r\nL 164.040914 21.605204 \r\nL 164.040914 21.56874 \r\nL 166.611713 21.459347 \r\nL 166.611713 21.422883 \r\nL 169.522683 21.31349 \r\nL 169.617485 21.204097 \r\nL 173.654922 21.094704 \r\nL 173.654922 21.05824 \r\nL 176.967404 20.948847 \r\nL 176.967404 20.912383 \r\nL 183.419496 20.80299 \r\nL 183.419496 20.766526 \r\nL 190.501741 20.657133 \r\nL 190.501741 20.620669 \r\nL 195.029916 20.511276 \r\nL 195.029916 20.474812 \r\nL 199.184461 20.365419 \r\nL 199.184461 20.328955 \r\nL 202.759043 20.219562 \r\nL 202.759043 20.183098 \r\nL 208.898847 20.073705 \r\nL 208.898847 20.037241 \r\nL 218.936673 19.927848 \r\nL 218.936673 19.891384 \r\nL 222.862579 19.781991 \r\nL 222.968534 19.709063 \r\nL 227.981871 19.59967 \r\nL 227.981871 19.563206 \r\nL 235.013926 19.453813 \r\nL 235.013926 19.417349 \r\nL 238.426787 19.307956 \r\nL 238.426787 19.271492 \r\nL 249.864333 19.162099 \r\nL 249.864333 19.125635 \r\nL 262.606796 19.016242 \r\nL 262.606796 18.979778 \r\nL 274.272982 18.870385 \r\nL 274.272982 18.833921 \r\nL 282.732639 18.724528 \r\nL 282.732639 18.688064 \r\nL 293.26678 18.578671 \r\nL 293.26678 18.542207 \r\nL 299.083143 18.432814 \r\nL 299.083143 18.39635 \r\nL 306.829 18.286957 \r\nL 306.829 18.250493 \r\nL 314.441018 18.1411 \r\nL 314.441018 18.104636 \r\nL 316.052647 17.995243 \r\nL 316.052647 17.958778 \r\nL 325.404556 17.849386 \r\nL 325.404556 17.812921 \r\nL 327.172328 17.703529 \r\nL 327.172328 17.667064 \r\nL 335.75467 17.557672 \r\nL 335.75467 17.521207 \r\nL 341.136061 17.411815 \r\nL 341.136061 17.37535 \r\nL 345.151191 17.265958 \r\nL 345.151191 17.229493 \r\nL 349.49534 17.120101 \r\nL 349.49534 17.083636 \r\nL 349.684943 17.083636 \r\nL 349.684943 17.083636 \r\n\" style=\"fill:none;stroke:#0000ff;stroke-dasharray:1.5,2.475;stroke-dashoffset:0;stroke-width:1.5;\"/>\r\n   </g>\r\n   <g id=\"line2d_14\">\r\n    <path clip-path=\"url(#p47623137bb)\" d=\"M 45.321307 214.756364 \r\nL 45.321307 210.672367 \r\nL 45.321307 204.108801 \r\nL 45.321307 196.487772 \r\nL 45.321307 188.647957 \r\nL 45.321307 180.662285 \r\nL 45.321307 173.843469 \r\nL 45.321307 167.389296 \r\nL 45.321307 161.044516 \r\nL 45.321307 154.116307 \r\nL 45.321307 147.552741 \r\nL 45.321307 142.958245 \r\nL 45.321307 138.035571 \r\nL 45.321307 133.550467 \r\nL 45.321307 128.336079 \r\nL 45.321307 123.996833 \r\nL 45.326883 119.511729 \r\nL 45.338037 115.31834 \r\nL 45.338037 111.963628 \r\nL 45.338037 108.535988 \r\nL 45.338037 104.926027 \r\nL 45.338037 102.045351 \r\nL 45.34919 98.581247 \r\nL 45.34919 95.153607 \r\nL 45.354766 92.272931 \r\nL 45.354766 89.538111 \r\nL 45.354766 87.167935 \r\nL 45.354766 84.360187 \r\nL 45.360343 81.370118 \r\nL 45.360343 79.218727 \r\nL 45.371496 77.176729 \r\nL 45.388226 74.770088 \r\nL 45.388226 72.691625 \r\nL 45.399379 68.315915 \r\nL 45.399379 66.602095 \r\nL 45.404955 64.195454 \r\nL 45.410532 62.372241 \r\nL 45.410532 60.585493 \r\nL 45.427262 59.528029 \r\nL 45.438415 57.814209 \r\nL 45.449568 55.990997 \r\nL 45.455145 54.094855 \r\nL 45.460721 52.636285 \r\nL 45.477451 51.469429 \r\nL 45.488604 49.901466 \r\nL 45.51091 48.552289 \r\nL 45.533216 46.984326 \r\nL 45.533216 45.781005 \r\nL 45.549946 44.541221 \r\nL 45.572252 43.520221 \r\nL 45.594559 42.280437 \r\nL 45.650324 41.514687 \r\nL 45.667054 40.493688 \r\nL 45.711667 39.253904 \r\nL 45.756279 38.45169 \r\nL 45.784162 37.248369 \r\nL 45.851081 35.753335 \r\nL 45.918 34.987586 \r\nL 45.990495 34.185372 \r\nL 46.018378 33.31023 \r\nL 46.09645 32.653873 \r\nL 46.152216 31.961052 \r\nL 46.207982 31.122375 \r\nL 46.286053 30.502482 \r\nL 46.369702 29.481483 \r\nL 46.425468 29.080376 \r\nL 46.531423 28.351091 \r\nL 46.631801 27.731199 \r\nL 46.760062 27.220699 \r\nL 46.960819 26.746664 \r\nL 47.122539 25.980915 \r\nL 47.278683 25.288094 \r\nL 47.468286 24.74113 \r\nL 47.696926 24.157702 \r\nL 47.936718 23.647202 \r\nL 48.2267 22.990846 \r\nL 48.511105 22.589739 \r\nL 48.918195 22.079239 \r\nL 49.269519 21.605204 \r\nL 49.654302 21.167633 \r\nL 50.128311 20.839455 \r\nL 50.741733 20.547741 \r\nL 51.399769 20.292491 \r\nL 52.091263 20.146634 \r\nL 53.07274 19.745527 \r\nL 54.082099 19.563206 \r\nL 55.36471 19.235027 \r\nL 56.914997 18.943313 \r\nL 58.565662 18.760992 \r\nL 60.907821 18.542207 \r\nL 63.428431 18.39635 \r\nL 67.003013 18.1411 \r\nL 71.085062 17.922314 \r\nL 76.40511 17.739993 \r\nL 83.208526 17.37535 \r\nL 92.236994 17.229493 \r\nL 105.046376 17.193029 \r\nL 123.733463 17.120101 \r\nL 154.42133 17.083636 \r\nL 208.854234 17.083636 \r\nL 349.684943 17.083636 \r\n\" style=\"fill:none;stroke:#1f77b4;stroke-linecap:square;stroke-width:2;\"/>\r\n   </g>\r\n   <g id=\"line2d_15\">\r\n    <path clip-path=\"url(#p47623137bb)\" d=\"M 45.321307 214.756364 \r\nL 349.684943 17.083636 \r\n\" style=\"fill:none;stroke:#000000;stroke-dasharray:5.55,2.4;stroke-dashoffset:0;stroke-width:1.5;\"/>\r\n   </g>\r\n   <g id=\"patch_3\">\r\n    <path d=\"M 30.103125 224.64 \r\nL 30.103125 7.2 \r\n\" style=\"fill:none;stroke:#000000;stroke-linecap:square;stroke-linejoin:miter;stroke-width:0.8;\"/>\r\n   </g>\r\n   <g id=\"patch_4\">\r\n    <path d=\"M 364.903125 224.64 \r\nL 364.903125 7.2 \r\n\" style=\"fill:none;stroke:#000000;stroke-linecap:square;stroke-linejoin:miter;stroke-width:0.8;\"/>\r\n   </g>\r\n   <g id=\"patch_5\">\r\n    <path d=\"M 30.103125 224.64 \r\nL 364.903125 224.64 \r\n\" style=\"fill:none;stroke:#000000;stroke-linecap:square;stroke-linejoin:miter;stroke-width:0.8;\"/>\r\n   </g>\r\n   <g id=\"patch_6\">\r\n    <path d=\"M 30.103125 7.2 \r\nL 364.903125 7.2 \r\n\" style=\"fill:none;stroke:#000000;stroke-linecap:square;stroke-linejoin:miter;stroke-width:0.8;\"/>\r\n   </g>\r\n   <g id=\"legend_1\">\r\n    <g id=\"patch_7\">\r\n     <path d=\"M 250.651563 219.64 \r\nL 357.903125 219.64 \r\nQ 359.903125 219.64 359.903125 217.64 \r\nL 359.903125 189.28375 \r\nQ 359.903125 187.28375 357.903125 187.28375 \r\nL 250.651563 187.28375 \r\nQ 248.651563 187.28375 248.651563 189.28375 \r\nL 248.651563 217.64 \r\nQ 248.651563 219.64 250.651563 219.64 \r\nz\r\n\" style=\"fill:#ffffff;opacity:0.8;stroke:#cccccc;stroke-linejoin:miter;\"/>\r\n    </g>\r\n    <g id=\"line2d_16\">\r\n     <path d=\"M 252.651563 195.382187 \r\nL 272.651563 195.382187 \r\n\" style=\"fill:none;stroke:#0000ff;stroke-dasharray:1.5,2.475;stroke-dashoffset:0;stroke-width:1.5;\"/>\r\n    </g>\r\n    <g id=\"line2d_17\"/>\r\n    <g id=\"text_13\">\r\n     <!-- SGD -->\r\n     <defs>\r\n      <path d=\"M 53.515625 70.515625 \r\nL 53.515625 60.890625 \r\nQ 47.90625 63.578125 42.921875 64.890625 \r\nQ 37.9375 66.21875 33.296875 66.21875 \r\nQ 25.25 66.21875 20.875 63.09375 \r\nQ 16.5 59.96875 16.5 54.203125 \r\nQ 16.5 49.359375 19.40625 46.890625 \r\nQ 22.3125 44.4375 30.421875 42.921875 \r\nL 36.375 41.703125 \r\nQ 47.40625 39.59375 52.65625 34.296875 \r\nQ 57.90625 29 57.90625 20.125 \r\nQ 57.90625 9.515625 50.796875 4.046875 \r\nQ 43.703125 -1.421875 29.984375 -1.421875 \r\nQ 24.8125 -1.421875 18.96875 -0.25 \r\nQ 13.140625 0.921875 6.890625 3.21875 \r\nL 6.890625 13.375 \r\nQ 12.890625 10.015625 18.65625 8.296875 \r\nQ 24.421875 6.59375 29.984375 6.59375 \r\nQ 38.421875 6.59375 43.015625 9.90625 \r\nQ 47.609375 13.234375 47.609375 19.390625 \r\nQ 47.609375 24.75 44.3125 27.78125 \r\nQ 41.015625 30.8125 33.5 32.328125 \r\nL 27.484375 33.5 \r\nQ 16.453125 35.6875 11.515625 40.375 \r\nQ 6.59375 45.0625 6.59375 53.421875 \r\nQ 6.59375 63.09375 13.40625 68.65625 \r\nQ 20.21875 74.21875 32.171875 74.21875 \r\nQ 37.3125 74.21875 42.625 73.28125 \r\nQ 47.953125 72.359375 53.515625 70.515625 \r\nz\r\n\" id=\"DejaVuSans-83\"/>\r\n      <path d=\"M 59.515625 10.40625 \r\nL 59.515625 29.984375 \r\nL 43.40625 29.984375 \r\nL 43.40625 38.09375 \r\nL 69.28125 38.09375 \r\nL 69.28125 6.78125 \r\nQ 63.578125 2.734375 56.6875 0.65625 \r\nQ 49.8125 -1.421875 42 -1.421875 \r\nQ 24.90625 -1.421875 15.25 8.5625 \r\nQ 5.609375 18.5625 5.609375 36.375 \r\nQ 5.609375 54.25 15.25 64.234375 \r\nQ 24.90625 74.21875 42 74.21875 \r\nQ 49.125 74.21875 55.546875 72.453125 \r\nQ 61.96875 70.703125 67.390625 67.28125 \r\nL 67.390625 56.78125 \r\nQ 61.921875 61.421875 55.765625 63.765625 \r\nQ 49.609375 66.109375 42.828125 66.109375 \r\nQ 29.4375 66.109375 22.71875 58.640625 \r\nQ 16.015625 51.171875 16.015625 36.375 \r\nQ 16.015625 21.625 22.71875 14.15625 \r\nQ 29.4375 6.6875 42.828125 6.6875 \r\nQ 48.046875 6.6875 52.140625 7.59375 \r\nQ 56.25 8.5 59.515625 10.40625 \r\nz\r\n\" id=\"DejaVuSans-71\"/>\r\n      <path d=\"M 19.671875 64.796875 \r\nL 19.671875 8.109375 \r\nL 31.59375 8.109375 \r\nQ 46.6875 8.109375 53.6875 14.9375 \r\nQ 60.6875 21.78125 60.6875 36.53125 \r\nQ 60.6875 51.171875 53.6875 57.984375 \r\nQ 46.6875 64.796875 31.59375 64.796875 \r\nz\r\nM 9.8125 72.90625 \r\nL 30.078125 72.90625 \r\nQ 51.265625 72.90625 61.171875 64.09375 \r\nQ 71.09375 55.28125 71.09375 36.53125 \r\nQ 71.09375 17.671875 61.125 8.828125 \r\nQ 51.171875 0 30.078125 0 \r\nL 9.8125 0 \r\nz\r\n\" id=\"DejaVuSans-68\"/>\r\n     </defs>\r\n     <g transform=\"translate(280.651563 198.882187)scale(0.1 -0.1)\">\r\n      <use xlink:href=\"#DejaVuSans-83\"/>\r\n      <use x=\"63.476562\" xlink:href=\"#DejaVuSans-71\"/>\r\n      <use x=\"140.966797\" xlink:href=\"#DejaVuSans-68\"/>\r\n     </g>\r\n    </g>\r\n    <g id=\"line2d_18\">\r\n     <path d=\"M 252.651563 210.060312 \r\nL 272.651563 210.060312 \r\n\" style=\"fill:none;stroke:#1f77b4;stroke-linecap:square;stroke-width:2;\"/>\r\n    </g>\r\n    <g id=\"line2d_19\"/>\r\n    <g id=\"text_14\">\r\n     <!-- Random Forest -->\r\n     <defs>\r\n      <path d=\"M 44.390625 34.1875 \r\nQ 47.5625 33.109375 50.5625 29.59375 \r\nQ 53.5625 26.078125 56.59375 19.921875 \r\nL 66.609375 0 \r\nL 56 0 \r\nL 46.6875 18.703125 \r\nQ 43.0625 26.03125 39.671875 28.421875 \r\nQ 36.28125 30.8125 30.421875 30.8125 \r\nL 19.671875 30.8125 \r\nL 19.671875 0 \r\nL 9.8125 0 \r\nL 9.8125 72.90625 \r\nL 32.078125 72.90625 \r\nQ 44.578125 72.90625 50.734375 67.671875 \r\nQ 56.890625 62.453125 56.890625 51.90625 \r\nQ 56.890625 45.015625 53.6875 40.46875 \r\nQ 50.484375 35.9375 44.390625 34.1875 \r\nz\r\nM 19.671875 64.796875 \r\nL 19.671875 38.921875 \r\nL 32.078125 38.921875 \r\nQ 39.203125 38.921875 42.84375 42.21875 \r\nQ 46.484375 45.515625 46.484375 51.90625 \r\nQ 46.484375 58.296875 42.84375 61.546875 \r\nQ 39.203125 64.796875 32.078125 64.796875 \r\nz\r\n\" id=\"DejaVuSans-82\"/>\r\n      <path d=\"M 34.28125 27.484375 \r\nQ 23.390625 27.484375 19.1875 25 \r\nQ 14.984375 22.515625 14.984375 16.5 \r\nQ 14.984375 11.71875 18.140625 8.90625 \r\nQ 21.296875 6.109375 26.703125 6.109375 \r\nQ 34.1875 6.109375 38.703125 11.40625 \r\nQ 43.21875 16.703125 43.21875 25.484375 \r\nL 43.21875 27.484375 \r\nz\r\nM 52.203125 31.203125 \r\nL 52.203125 0 \r\nL 43.21875 0 \r\nL 43.21875 8.296875 \r\nQ 40.140625 3.328125 35.546875 0.953125 \r\nQ 30.953125 -1.421875 24.3125 -1.421875 \r\nQ 15.921875 -1.421875 10.953125 3.296875 \r\nQ 6 8.015625 6 15.921875 \r\nQ 6 25.140625 12.171875 29.828125 \r\nQ 18.359375 34.515625 30.609375 34.515625 \r\nL 43.21875 34.515625 \r\nL 43.21875 35.40625 \r\nQ 43.21875 41.609375 39.140625 45 \r\nQ 35.0625 48.390625 27.6875 48.390625 \r\nQ 23 48.390625 18.546875 47.265625 \r\nQ 14.109375 46.140625 10.015625 43.890625 \r\nL 10.015625 52.203125 \r\nQ 14.9375 54.109375 19.578125 55.046875 \r\nQ 24.21875 56 28.609375 56 \r\nQ 40.484375 56 46.34375 49.84375 \r\nQ 52.203125 43.703125 52.203125 31.203125 \r\nz\r\n\" id=\"DejaVuSans-97\"/>\r\n      <path d=\"M 54.890625 33.015625 \r\nL 54.890625 0 \r\nL 45.90625 0 \r\nL 45.90625 32.71875 \r\nQ 45.90625 40.484375 42.875 44.328125 \r\nQ 39.84375 48.1875 33.796875 48.1875 \r\nQ 26.515625 48.1875 22.3125 43.546875 \r\nQ 18.109375 38.921875 18.109375 30.90625 \r\nL 18.109375 0 \r\nL 9.078125 0 \r\nL 9.078125 54.6875 \r\nL 18.109375 54.6875 \r\nL 18.109375 46.1875 \r\nQ 21.34375 51.125 25.703125 53.5625 \r\nQ 30.078125 56 35.796875 56 \r\nQ 45.21875 56 50.046875 50.171875 \r\nQ 54.890625 44.34375 54.890625 33.015625 \r\nz\r\n\" id=\"DejaVuSans-110\"/>\r\n      <path d=\"M 45.40625 46.390625 \r\nL 45.40625 75.984375 \r\nL 54.390625 75.984375 \r\nL 54.390625 0 \r\nL 45.40625 0 \r\nL 45.40625 8.203125 \r\nQ 42.578125 3.328125 38.25 0.953125 \r\nQ 33.9375 -1.421875 27.875 -1.421875 \r\nQ 17.96875 -1.421875 11.734375 6.484375 \r\nQ 5.515625 14.40625 5.515625 27.296875 \r\nQ 5.515625 40.1875 11.734375 48.09375 \r\nQ 17.96875 56 27.875 56 \r\nQ 33.9375 56 38.25 53.625 \r\nQ 42.578125 51.265625 45.40625 46.390625 \r\nz\r\nM 14.796875 27.296875 \r\nQ 14.796875 17.390625 18.875 11.75 \r\nQ 22.953125 6.109375 30.078125 6.109375 \r\nQ 37.203125 6.109375 41.296875 11.75 \r\nQ 45.40625 17.390625 45.40625 27.296875 \r\nQ 45.40625 37.203125 41.296875 42.84375 \r\nQ 37.203125 48.484375 30.078125 48.484375 \r\nQ 22.953125 48.484375 18.875 42.84375 \r\nQ 14.796875 37.203125 14.796875 27.296875 \r\nz\r\n\" id=\"DejaVuSans-100\"/>\r\n      <path d=\"M 30.609375 48.390625 \r\nQ 23.390625 48.390625 19.1875 42.75 \r\nQ 14.984375 37.109375 14.984375 27.296875 \r\nQ 14.984375 17.484375 19.15625 11.84375 \r\nQ 23.34375 6.203125 30.609375 6.203125 \r\nQ 37.796875 6.203125 41.984375 11.859375 \r\nQ 46.1875 17.53125 46.1875 27.296875 \r\nQ 46.1875 37.015625 41.984375 42.703125 \r\nQ 37.796875 48.390625 30.609375 48.390625 \r\nz\r\nM 30.609375 56 \r\nQ 42.328125 56 49.015625 48.375 \r\nQ 55.71875 40.765625 55.71875 27.296875 \r\nQ 55.71875 13.875 49.015625 6.21875 \r\nQ 42.328125 -1.421875 30.609375 -1.421875 \r\nQ 18.84375 -1.421875 12.171875 6.21875 \r\nQ 5.515625 13.875 5.515625 27.296875 \r\nQ 5.515625 40.765625 12.171875 48.375 \r\nQ 18.84375 56 30.609375 56 \r\nz\r\n\" id=\"DejaVuSans-111\"/>\r\n      <path d=\"M 52 44.1875 \r\nQ 55.375 50.25 60.0625 53.125 \r\nQ 64.75 56 71.09375 56 \r\nQ 79.640625 56 84.28125 50.015625 \r\nQ 88.921875 44.046875 88.921875 33.015625 \r\nL 88.921875 0 \r\nL 79.890625 0 \r\nL 79.890625 32.71875 \r\nQ 79.890625 40.578125 77.09375 44.375 \r\nQ 74.3125 48.1875 68.609375 48.1875 \r\nQ 61.625 48.1875 57.5625 43.546875 \r\nQ 53.515625 38.921875 53.515625 30.90625 \r\nL 53.515625 0 \r\nL 44.484375 0 \r\nL 44.484375 32.71875 \r\nQ 44.484375 40.625 41.703125 44.40625 \r\nQ 38.921875 48.1875 33.109375 48.1875 \r\nQ 26.21875 48.1875 22.15625 43.53125 \r\nQ 18.109375 38.875 18.109375 30.90625 \r\nL 18.109375 0 \r\nL 9.078125 0 \r\nL 9.078125 54.6875 \r\nL 18.109375 54.6875 \r\nL 18.109375 46.1875 \r\nQ 21.1875 51.21875 25.484375 53.609375 \r\nQ 29.78125 56 35.6875 56 \r\nQ 41.65625 56 45.828125 52.96875 \r\nQ 50 49.953125 52 44.1875 \r\nz\r\n\" id=\"DejaVuSans-109\"/>\r\n      <path id=\"DejaVuSans-32\"/>\r\n      <path d=\"M 9.8125 72.90625 \r\nL 51.703125 72.90625 \r\nL 51.703125 64.59375 \r\nL 19.671875 64.59375 \r\nL 19.671875 43.109375 \r\nL 48.578125 43.109375 \r\nL 48.578125 34.8125 \r\nL 19.671875 34.8125 \r\nL 19.671875 0 \r\nL 9.8125 0 \r\nz\r\n\" id=\"DejaVuSans-70\"/>\r\n      <path d=\"M 41.109375 46.296875 \r\nQ 39.59375 47.171875 37.8125 47.578125 \r\nQ 36.03125 48 33.890625 48 \r\nQ 26.265625 48 22.1875 43.046875 \r\nQ 18.109375 38.09375 18.109375 28.8125 \r\nL 18.109375 0 \r\nL 9.078125 0 \r\nL 9.078125 54.6875 \r\nL 18.109375 54.6875 \r\nL 18.109375 46.1875 \r\nQ 20.953125 51.171875 25.484375 53.578125 \r\nQ 30.03125 56 36.53125 56 \r\nQ 37.453125 56 38.578125 55.875 \r\nQ 39.703125 55.765625 41.0625 55.515625 \r\nz\r\n\" id=\"DejaVuSans-114\"/>\r\n      <path d=\"M 56.203125 29.59375 \r\nL 56.203125 25.203125 \r\nL 14.890625 25.203125 \r\nQ 15.484375 15.921875 20.484375 11.0625 \r\nQ 25.484375 6.203125 34.421875 6.203125 \r\nQ 39.59375 6.203125 44.453125 7.46875 \r\nQ 49.3125 8.734375 54.109375 11.28125 \r\nL 54.109375 2.78125 \r\nQ 49.265625 0.734375 44.1875 -0.34375 \r\nQ 39.109375 -1.421875 33.890625 -1.421875 \r\nQ 20.796875 -1.421875 13.15625 6.1875 \r\nQ 5.515625 13.8125 5.515625 26.8125 \r\nQ 5.515625 40.234375 12.765625 48.109375 \r\nQ 20.015625 56 32.328125 56 \r\nQ 43.359375 56 49.78125 48.890625 \r\nQ 56.203125 41.796875 56.203125 29.59375 \r\nz\r\nM 47.21875 32.234375 \r\nQ 47.125 39.59375 43.09375 43.984375 \r\nQ 39.0625 48.390625 32.421875 48.390625 \r\nQ 24.90625 48.390625 20.390625 44.140625 \r\nQ 15.875 39.890625 15.1875 32.171875 \r\nz\r\n\" id=\"DejaVuSans-101\"/>\r\n      <path d=\"M 44.28125 53.078125 \r\nL 44.28125 44.578125 \r\nQ 40.484375 46.53125 36.375 47.5 \r\nQ 32.28125 48.484375 27.875 48.484375 \r\nQ 21.1875 48.484375 17.84375 46.4375 \r\nQ 14.5 44.390625 14.5 40.28125 \r\nQ 14.5 37.15625 16.890625 35.375 \r\nQ 19.28125 33.59375 26.515625 31.984375 \r\nL 29.59375 31.296875 \r\nQ 39.15625 29.25 43.1875 25.515625 \r\nQ 47.21875 21.78125 47.21875 15.09375 \r\nQ 47.21875 7.46875 41.1875 3.015625 \r\nQ 35.15625 -1.421875 24.609375 -1.421875 \r\nQ 20.21875 -1.421875 15.453125 -0.5625 \r\nQ 10.6875 0.296875 5.421875 2 \r\nL 5.421875 11.28125 \r\nQ 10.40625 8.6875 15.234375 7.390625 \r\nQ 20.0625 6.109375 24.8125 6.109375 \r\nQ 31.15625 6.109375 34.5625 8.28125 \r\nQ 37.984375 10.453125 37.984375 14.40625 \r\nQ 37.984375 18.0625 35.515625 20.015625 \r\nQ 33.0625 21.96875 24.703125 23.78125 \r\nL 21.578125 24.515625 \r\nQ 13.234375 26.265625 9.515625 29.90625 \r\nQ 5.8125 33.546875 5.8125 39.890625 \r\nQ 5.8125 47.609375 11.28125 51.796875 \r\nQ 16.75 56 26.8125 56 \r\nQ 31.78125 56 36.171875 55.265625 \r\nQ 40.578125 54.546875 44.28125 53.078125 \r\nz\r\n\" id=\"DejaVuSans-115\"/>\r\n      <path d=\"M 18.3125 70.21875 \r\nL 18.3125 54.6875 \r\nL 36.8125 54.6875 \r\nL 36.8125 47.703125 \r\nL 18.3125 47.703125 \r\nL 18.3125 18.015625 \r\nQ 18.3125 11.328125 20.140625 9.421875 \r\nQ 21.96875 7.515625 27.59375 7.515625 \r\nL 36.8125 7.515625 \r\nL 36.8125 0 \r\nL 27.59375 0 \r\nQ 17.1875 0 13.234375 3.875 \r\nQ 9.28125 7.765625 9.28125 18.015625 \r\nL 9.28125 47.703125 \r\nL 2.6875 47.703125 \r\nL 2.6875 54.6875 \r\nL 9.28125 54.6875 \r\nL 9.28125 70.21875 \r\nz\r\n\" id=\"DejaVuSans-116\"/>\r\n     </defs>\r\n     <g transform=\"translate(280.651563 213.560312)scale(0.1 -0.1)\">\r\n      <use xlink:href=\"#DejaVuSans-82\"/>\r\n      <use x=\"67.232422\" xlink:href=\"#DejaVuSans-97\"/>\r\n      <use x=\"128.511719\" xlink:href=\"#DejaVuSans-110\"/>\r\n      <use x=\"191.890625\" xlink:href=\"#DejaVuSans-100\"/>\r\n      <use x=\"255.367188\" xlink:href=\"#DejaVuSans-111\"/>\r\n      <use x=\"316.548828\" xlink:href=\"#DejaVuSans-109\"/>\r\n      <use x=\"413.960938\" xlink:href=\"#DejaVuSans-32\"/>\r\n      <use x=\"445.748047\" xlink:href=\"#DejaVuSans-70\"/>\r\n      <use x=\"499.642578\" xlink:href=\"#DejaVuSans-111\"/>\r\n      <use x=\"560.824219\" xlink:href=\"#DejaVuSans-114\"/>\r\n      <use x=\"599.6875\" xlink:href=\"#DejaVuSans-101\"/>\r\n      <use x=\"661.210938\" xlink:href=\"#DejaVuSans-115\"/>\r\n      <use x=\"713.310547\" xlink:href=\"#DejaVuSans-116\"/>\r\n     </g>\r\n    </g>\r\n   </g>\r\n  </g>\r\n </g>\r\n <defs>\r\n  <clipPath id=\"p47623137bb\">\r\n   <rect height=\"217.44\" width=\"334.8\" x=\"30.103125\" y=\"7.2\"/>\r\n  </clipPath>\r\n </defs>\r\n</svg>\r\n",
      "image/png": "[encoded data removed]"
     },
     "metadata": {
      "needs_background": "light"
     }
    }
   ],
   "source": [
    "# Compare SGD to Random Forest\n",
    "plt.plot(fpr,tpr,\"b:\",label=\"SGD\")\n",
    "plot_roc_curve(fpr_forest,tpr_forest,\"Random Forest\")\n",
    "plt.legend(loc=\"lower right\")\n",
    "plt.show()"
   ]
  },
  {
   "cell_type": "code",
   "execution_count": 25,
   "metadata": {},
   "outputs": [
    {
     "output_type": "execute_result",
     "data": {
      "text/plain": "0.9983436731328145"
     },
     "metadata": {},
     "execution_count": 25
    }
   ],
   "source": [
    "roc_auc_score(y_train_5,y_scores_forest) # print 0.998343"
   ]
  },
  {
   "cell_type": "code",
   "execution_count": 31,
   "metadata": {
    "tags": []
   },
   "outputs": [
    {
     "output_type": "stream",
     "name": "stdout",
     "text": "0.9905083315756169\n0.8662608374838591\n"
    }
   ],
   "source": [
    "y_train_pred_forest = cross_val_predict(forest_clf, X_train, y_train_5, cv=3) # prediction variable\n",
    "print(precision_score(y_train_5, y_train_pred_forest)) # prints 0.990508\n",
    "print(recall_score(y_train_5, y_train_pred_forest)) # prints 0.86626"
   ]
  },
  {
   "cell_type": "code",
   "execution_count": null,
   "metadata": {},
   "outputs": [],
   "source": []
  }
 ]
}